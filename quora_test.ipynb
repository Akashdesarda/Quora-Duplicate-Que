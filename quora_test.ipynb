{
 "cells": [
  {
   "cell_type": "code",
   "execution_count": 1,
   "metadata": {},
   "outputs": [],
   "source": [
    "import pandas as pd\n",
    "import numpy as np"
   ]
  },
  {
   "cell_type": "code",
   "execution_count": 8,
   "metadata": {},
   "outputs": [],
   "source": [
    "train  = pd.read_csv('train.csv')\n",
    "dup = train.pop('is_duplicate')\n",
    "train_sam = train.sample(100000)"
   ]
  },
  {
   "cell_type": "code",
   "execution_count": 4,
   "metadata": {},
   "outputs": [],
   "source": [
    "#cleaning the text\n",
    "import nltk\n",
    "import re, string\n",
    "from nltk.corpus import stopwords\n",
    "from nltk.stem import WordNetLemmatizer\n",
    "\n",
    "def clean_text(content):\n",
    "    if type(content) == str:\n",
    "        #lowercasing the text\n",
    "        text = content.lower()\n",
    "        # Removing non ASCII chars\n",
    "        text = re.sub(r'[^\\x00-\\x7f]',r' ',text)\n",
    "        # Removing (replacing with empty spaces actually) all the punctuations\n",
    "        text = re.sub(\"[\"+string.punctuation+\"]\", \" \", text)\n",
    "        #splitting into words\n",
    "        words=text.split()\n",
    "        #removing the stop words in the text\n",
    "        stop_word=set(stopwords.words('english'))\n",
    "        words=list(word for word in words if not word in stop_word)\n",
    "        words=[word for word in words if len(word)>1 ]\n",
    "        words=[WordNetLemmatizer().lemmatize(word) for word in words]\n",
    "        return ( \" \".join(words) )\n",
    "    else:\n",
    "        return \"\""
   ]
  },
  {
   "cell_type": "code",
   "execution_count": 6,
   "metadata": {},
   "outputs": [
    {
     "name": "stderr",
     "output_type": "stream",
     "text": [
      "[nltk_data] Downloading package wordnet to\n",
      "[nltk_data]     C:\\Users\\expert\\AppData\\Roaming\\nltk_data...\n",
      "[nltk_data]   Unzipping corpora\\wordnet.zip.\n"
     ]
    },
    {
     "data": {
      "text/plain": [
       "True"
      ]
     },
     "execution_count": 6,
     "metadata": {},
     "output_type": "execute_result"
    }
   ],
   "source": [
    "import nltk\n",
    "nltk.download('wordnet')"
   ]
  },
  {
   "cell_type": "code",
   "execution_count": 9,
   "metadata": {},
   "outputs": [],
   "source": [
    "train_sam.question1 = train_sam.question1.map(clean_text)\n",
    "train_sam.question2 = train_sam.question2.map(clean_text)"
   ]
  },
  {
   "cell_type": "code",
   "execution_count": 11,
   "metadata": {},
   "outputs": [],
   "source": [
    "def tokenize(content):\n",
    "    return content.split()"
   ]
  },
  {
   "cell_type": "code",
   "execution_count": 23,
   "metadata": {},
   "outputs": [],
   "source": [
    "from sklearn.feature_extraction.text import TfidfVectorizer\n",
    "tfidf_vectorizer = TfidfVectorizer(tokenizer=tokenize, analyzer='word', max_df=1.0, min_df=1)"
   ]
  },
  {
   "cell_type": "code",
   "execution_count": 73,
   "metadata": {},
   "outputs": [],
   "source": [
    "tfidf_matrix = tfidf_vectorizer.fit_transform(train_sam.question1, train_sam.question2)"
   ]
  },
  {
   "cell_type": "code",
   "execution_count": 75,
   "metadata": {},
   "outputs": [
    {
     "ename": "ValueError",
     "evalue": "array is too big; `arr.size * arr.dtype.itemsize` is larger than the maximum possible size.",
     "output_type": "error",
     "traceback": [
      "\u001b[1;31m---------------------------------------------------------------------------\u001b[0m",
      "\u001b[1;31mValueError\u001b[0m                                Traceback (most recent call last)",
      "\u001b[1;32m<ipython-input-75-459613c3b1dd>\u001b[0m in \u001b[0;36m<module>\u001b[1;34m()\u001b[0m\n\u001b[1;32m----> 1\u001b[1;33m \u001b[0mtfidf_matrix_arrry\u001b[0m \u001b[1;33m=\u001b[0m \u001b[0mtfidf_matrix\u001b[0m\u001b[1;33m.\u001b[0m\u001b[0mtoarray\u001b[0m\u001b[1;33m(\u001b[0m\u001b[1;33m)\u001b[0m\u001b[1;33m\u001b[0m\u001b[0m\n\u001b[0m",
      "\u001b[1;32mF:\\Software\\python\\lib\\site-packages\\scipy\\sparse\\compressed.py\u001b[0m in \u001b[0;36mtoarray\u001b[1;34m(self, order, out)\u001b[0m\n\u001b[0;32m    945\u001b[0m         \u001b[1;32mif\u001b[0m \u001b[0mout\u001b[0m \u001b[1;32mis\u001b[0m \u001b[1;32mNone\u001b[0m \u001b[1;32mand\u001b[0m \u001b[0morder\u001b[0m \u001b[1;32mis\u001b[0m \u001b[1;32mNone\u001b[0m\u001b[1;33m:\u001b[0m\u001b[1;33m\u001b[0m\u001b[0m\n\u001b[0;32m    946\u001b[0m             \u001b[0morder\u001b[0m \u001b[1;33m=\u001b[0m \u001b[0mself\u001b[0m\u001b[1;33m.\u001b[0m\u001b[0m_swap\u001b[0m\u001b[1;33m(\u001b[0m\u001b[1;34m'cf'\u001b[0m\u001b[1;33m)\u001b[0m\u001b[1;33m[\u001b[0m\u001b[1;36m0\u001b[0m\u001b[1;33m]\u001b[0m\u001b[1;33m\u001b[0m\u001b[0m\n\u001b[1;32m--> 947\u001b[1;33m         \u001b[0mout\u001b[0m \u001b[1;33m=\u001b[0m \u001b[0mself\u001b[0m\u001b[1;33m.\u001b[0m\u001b[0m_process_toarray_args\u001b[0m\u001b[1;33m(\u001b[0m\u001b[0morder\u001b[0m\u001b[1;33m,\u001b[0m \u001b[0mout\u001b[0m\u001b[1;33m)\u001b[0m\u001b[1;33m\u001b[0m\u001b[0m\n\u001b[0m\u001b[0;32m    948\u001b[0m         \u001b[1;32mif\u001b[0m \u001b[1;32mnot\u001b[0m \u001b[1;33m(\u001b[0m\u001b[0mout\u001b[0m\u001b[1;33m.\u001b[0m\u001b[0mflags\u001b[0m\u001b[1;33m.\u001b[0m\u001b[0mc_contiguous\u001b[0m \u001b[1;32mor\u001b[0m \u001b[0mout\u001b[0m\u001b[1;33m.\u001b[0m\u001b[0mflags\u001b[0m\u001b[1;33m.\u001b[0m\u001b[0mf_contiguous\u001b[0m\u001b[1;33m)\u001b[0m\u001b[1;33m:\u001b[0m\u001b[1;33m\u001b[0m\u001b[0m\n\u001b[0;32m    949\u001b[0m             \u001b[1;32mraise\u001b[0m \u001b[0mValueError\u001b[0m\u001b[1;33m(\u001b[0m\u001b[1;34m'Output array must be C or F contiguous'\u001b[0m\u001b[1;33m)\u001b[0m\u001b[1;33m\u001b[0m\u001b[0m\n",
      "\u001b[1;32mF:\\Software\\python\\lib\\site-packages\\scipy\\sparse\\base.py\u001b[0m in \u001b[0;36m_process_toarray_args\u001b[1;34m(self, order, out)\u001b[0m\n\u001b[0;32m   1182\u001b[0m             \u001b[1;32mreturn\u001b[0m \u001b[0mout\u001b[0m\u001b[1;33m\u001b[0m\u001b[0m\n\u001b[0;32m   1183\u001b[0m         \u001b[1;32melse\u001b[0m\u001b[1;33m:\u001b[0m\u001b[1;33m\u001b[0m\u001b[0m\n\u001b[1;32m-> 1184\u001b[1;33m             \u001b[1;32mreturn\u001b[0m \u001b[0mnp\u001b[0m\u001b[1;33m.\u001b[0m\u001b[0mzeros\u001b[0m\u001b[1;33m(\u001b[0m\u001b[0mself\u001b[0m\u001b[1;33m.\u001b[0m\u001b[0mshape\u001b[0m\u001b[1;33m,\u001b[0m \u001b[0mdtype\u001b[0m\u001b[1;33m=\u001b[0m\u001b[0mself\u001b[0m\u001b[1;33m.\u001b[0m\u001b[0mdtype\u001b[0m\u001b[1;33m,\u001b[0m \u001b[0morder\u001b[0m\u001b[1;33m=\u001b[0m\u001b[0morder\u001b[0m\u001b[1;33m)\u001b[0m\u001b[1;33m\u001b[0m\u001b[0m\n\u001b[0m\u001b[0;32m   1185\u001b[0m \u001b[1;33m\u001b[0m\u001b[0m\n\u001b[0;32m   1186\u001b[0m \u001b[1;33m\u001b[0m\u001b[0m\n",
      "\u001b[1;31mValueError\u001b[0m: array is too big; `arr.size * arr.dtype.itemsize` is larger than the maximum possible size."
     ]
    }
   ],
   "source": [
    "tfidf_matrix_arrry = tfidf_matrix.toarray()"
   ]
  },
  {
   "cell_type": "code",
   "execution_count": 63,
   "metadata": {},
   "outputs": [],
   "source": [
    "tfidf_matrix_array = np.array(tfidf_matrix)\n",
    "#df_final= pd.DataFrame(tfidf_matrix_array)"
   ]
  },
  {
   "cell_type": "code",
   "execution_count": 53,
   "metadata": {},
   "outputs": [],
   "source": [
    "tfidf_matrix = tfidf_vectorizer.fit_transform(train_sam.question1, train_sam.question2)"
   ]
  },
  {
   "cell_type": "code",
   "execution_count": 41,
   "metadata": {},
   "outputs": [
    {
     "data": {
      "text/plain": [
       "list"
      ]
     },
     "execution_count": 41,
     "metadata": {},
     "output_type": "execute_result"
    }
   ],
   "source": [
    "type(cosine_vals)"
   ]
  },
  {
   "cell_type": "code",
   "execution_count": 45,
   "metadata": {},
   "outputs": [],
   "source": [
    "a = pd.DataFrame(cosine_vals, columns=['b'])"
   ]
  },
  {
   "cell_type": "code",
   "execution_count": 39,
   "metadata": {},
   "outputs": [
    {
     "data": {
      "text/html": [
       "<div>\n",
       "<style scoped>\n",
       "    .dataframe tbody tr th:only-of-type {\n",
       "        vertical-align: middle;\n",
       "    }\n",
       "\n",
       "    .dataframe tbody tr th {\n",
       "        vertical-align: top;\n",
       "    }\n",
       "\n",
       "    .dataframe thead th {\n",
       "        text-align: right;\n",
       "    }\n",
       "</style>\n",
       "<table border=\"1\" class=\"dataframe\">\n",
       "  <thead>\n",
       "    <tr style=\"text-align: right;\">\n",
       "      <th></th>\n",
       "      <th>id</th>\n",
       "      <th>qid1</th>\n",
       "      <th>qid2</th>\n",
       "      <th>question1</th>\n",
       "      <th>question2</th>\n",
       "    </tr>\n",
       "  </thead>\n",
       "  <tbody>\n",
       "    <tr>\n",
       "      <th>391998</th>\n",
       "      <td>391998</td>\n",
       "      <td>10009</td>\n",
       "      <td>441085</td>\n",
       "      <td>widely accepted credit card small business res...</td>\n",
       "      <td>widely accepted credit card small business res...</td>\n",
       "    </tr>\n",
       "    <tr>\n",
       "      <th>20774</th>\n",
       "      <td>20774</td>\n",
       "      <td>39169</td>\n",
       "      <td>39170</td>\n",
       "      <td>best camera phone 12000</td>\n",
       "      <td>best phone 12000</td>\n",
       "    </tr>\n",
       "    <tr>\n",
       "      <th>205279</th>\n",
       "      <td>205279</td>\n",
       "      <td>37104</td>\n",
       "      <td>204919</td>\n",
       "      <td>reach level 50 quickly dota</td>\n",
       "      <td>reach 6k mmr dota fast</td>\n",
       "    </tr>\n",
       "    <tr>\n",
       "      <th>306588</th>\n",
       "      <td>306588</td>\n",
       "      <td>40178</td>\n",
       "      <td>266773</td>\n",
       "      <td>celebrate birthday</td>\n",
       "      <td>one celebrate birthday</td>\n",
       "    </tr>\n",
       "    <tr>\n",
       "      <th>174026</th>\n",
       "      <td>174026</td>\n",
       "      <td>13326</td>\n",
       "      <td>171803</td>\n",
       "      <td>meditation cure bipolar disorder</td>\n",
       "      <td>bipolar disorder cured</td>\n",
       "    </tr>\n",
       "    <tr>\n",
       "      <th>266606</th>\n",
       "      <td>266606</td>\n",
       "      <td>383804</td>\n",
       "      <td>383805</td>\n",
       "      <td>one grow weight</td>\n",
       "      <td>expensive thing would consider buying ebay</td>\n",
       "    </tr>\n",
       "    <tr>\n",
       "      <th>302374</th>\n",
       "      <td>302374</td>\n",
       "      <td>327115</td>\n",
       "      <td>425390</td>\n",
       "      <td>activate window 10 permanently</td>\n",
       "      <td>activate free window 10 professional</td>\n",
       "    </tr>\n",
       "    <tr>\n",
       "      <th>100070</th>\n",
       "      <td>100070</td>\n",
       "      <td>166049</td>\n",
       "      <td>166050</td>\n",
       "      <td>show similar judge judy</td>\n",
       "      <td>judge judy respected legal profession</td>\n",
       "    </tr>\n",
       "    <tr>\n",
       "      <th>281253</th>\n",
       "      <td>281253</td>\n",
       "      <td>21855</td>\n",
       "      <td>48570</td>\n",
       "      <td>howdo get stanford poor gpa</td>\n",
       "      <td>get stanford poor gpa</td>\n",
       "    </tr>\n",
       "    <tr>\n",
       "      <th>262774</th>\n",
       "      <td>262774</td>\n",
       "      <td>379184</td>\n",
       "      <td>379185</td>\n",
       "      <td>bedroom arranged according feng shui</td>\n",
       "      <td>long work activate feng shui thing</td>\n",
       "    </tr>\n",
       "    <tr>\n",
       "      <th>313337</th>\n",
       "      <td>313337</td>\n",
       "      <td>18773</td>\n",
       "      <td>104720</td>\n",
       "      <td>hamster eat honey</td>\n",
       "      <td>hamster eat raisin harmful way</td>\n",
       "    </tr>\n",
       "    <tr>\n",
       "      <th>186074</th>\n",
       "      <td>186074</td>\n",
       "      <td>283921</td>\n",
       "      <td>283922</td>\n",
       "      <td>salary structure bad india fresher</td>\n",
       "      <td>see ukip takeover north next general election ...</td>\n",
       "    </tr>\n",
       "    <tr>\n",
       "      <th>267818</th>\n",
       "      <td>267818</td>\n",
       "      <td>60721</td>\n",
       "      <td>116541</td>\n",
       "      <td>talking animal farming impact global warming</td>\n",
       "      <td>environmentalist never talk animal agriculture...</td>\n",
       "    </tr>\n",
       "    <tr>\n",
       "      <th>148059</th>\n",
       "      <td>148059</td>\n",
       "      <td>46666</td>\n",
       "      <td>60738</td>\n",
       "      <td>get rid belly fat</td>\n",
       "      <td>belly fat</td>\n",
       "    </tr>\n",
       "    <tr>\n",
       "      <th>306897</th>\n",
       "      <td>306897</td>\n",
       "      <td>430498</td>\n",
       "      <td>430499</td>\n",
       "      <td>mean order awaiting shipment</td>\n",
       "      <td>awaiting fulfillment mean order status differ ...</td>\n",
       "    </tr>\n",
       "    <tr>\n",
       "      <th>99455</th>\n",
       "      <td>99455</td>\n",
       "      <td>115199</td>\n",
       "      <td>165109</td>\n",
       "      <td>value people alive instead feeling sad dead</td>\n",
       "      <td>alive people happy dead sad would choose</td>\n",
       "    </tr>\n",
       "    <tr>\n",
       "      <th>377111</th>\n",
       "      <td>377111</td>\n",
       "      <td>508350</td>\n",
       "      <td>508351</td>\n",
       "      <td>flipkart discontinued social sign</td>\n",
       "      <td>flipkart disabling social login via facebook g...</td>\n",
       "    </tr>\n",
       "    <tr>\n",
       "      <th>245652</th>\n",
       "      <td>245652</td>\n",
       "      <td>60813</td>\n",
       "      <td>329924</td>\n",
       "      <td>potty train pug puppy</td>\n",
       "      <td>new german shepard puppy potty train properly</td>\n",
       "    </tr>\n",
       "    <tr>\n",
       "      <th>371164</th>\n",
       "      <td>371164</td>\n",
       "      <td>15909</td>\n",
       "      <td>33602</td>\n",
       "      <td>one get anxiety</td>\n",
       "      <td>get anxiety</td>\n",
       "    </tr>\n",
       "    <tr>\n",
       "      <th>46598</th>\n",
       "      <td>46598</td>\n",
       "      <td>83332</td>\n",
       "      <td>83333</td>\n",
       "      <td>internship</td>\n",
       "      <td>internship job</td>\n",
       "    </tr>\n",
       "    <tr>\n",
       "      <th>103709</th>\n",
       "      <td>103709</td>\n",
       "      <td>171351</td>\n",
       "      <td>171352</td>\n",
       "      <td>open microsoft word docx file problem content</td>\n",
       "      <td>possible infect docx file without using macro</td>\n",
       "    </tr>\n",
       "    <tr>\n",
       "      <th>207262</th>\n",
       "      <td>207262</td>\n",
       "      <td>310895</td>\n",
       "      <td>310896</td>\n",
       "      <td>would happen blind person took lsd</td>\n",
       "      <td>would happen blind person take lsd</td>\n",
       "    </tr>\n",
       "    <tr>\n",
       "      <th>103392</th>\n",
       "      <td>103392</td>\n",
       "      <td>77511</td>\n",
       "      <td>170903</td>\n",
       "      <td>best alternative kat cr kickasstorrents</td>\n",
       "      <td>best alternative kat al</td>\n",
       "    </tr>\n",
       "    <tr>\n",
       "      <th>13680</th>\n",
       "      <td>13680</td>\n",
       "      <td>26252</td>\n",
       "      <td>26253</td>\n",
       "      <td>special care 10 week old pit bull puppy</td>\n",
       "      <td>special care week old pit bull puppy</td>\n",
       "    </tr>\n",
       "    <tr>\n",
       "      <th>137434</th>\n",
       "      <td>137434</td>\n",
       "      <td>65988</td>\n",
       "      <td>22473</td>\n",
       "      <td>evidence life planet</td>\n",
       "      <td>life existing except earth</td>\n",
       "    </tr>\n",
       "    <tr>\n",
       "      <th>260846</th>\n",
       "      <td>260846</td>\n",
       "      <td>80636</td>\n",
       "      <td>180267</td>\n",
       "      <td>nursing</td>\n",
       "      <td>nurse</td>\n",
       "    </tr>\n",
       "    <tr>\n",
       "      <th>324967</th>\n",
       "      <td>324967</td>\n",
       "      <td>363283</td>\n",
       "      <td>100283</td>\n",
       "      <td>anal sex dangerous unhealthy</td>\n",
       "      <td>anal sex safe</td>\n",
       "    </tr>\n",
       "    <tr>\n",
       "      <th>342620</th>\n",
       "      <td>342620</td>\n",
       "      <td>470616</td>\n",
       "      <td>470617</td>\n",
       "      <td>credit sudhaar</td>\n",
       "      <td>credit sudhaar</td>\n",
       "    </tr>\n",
       "    <tr>\n",
       "      <th>116880</th>\n",
       "      <td>116880</td>\n",
       "      <td>190299</td>\n",
       "      <td>190300</td>\n",
       "      <td>played bad last match forget</td>\n",
       "      <td>forget thing regret badly</td>\n",
       "    </tr>\n",
       "    <tr>\n",
       "      <th>340428</th>\n",
       "      <td>340428</td>\n",
       "      <td>468151</td>\n",
       "      <td>468152</td>\n",
       "      <td>taken 54l education loan 2011 degree year engg...</td>\n",
       "      <td>compulsory choose one graduation subject optio...</td>\n",
       "    </tr>\n",
       "  </tbody>\n",
       "</table>\n",
       "</div>"
      ],
      "text/plain": [
       "            id    qid1    qid2  \\\n",
       "391998  391998   10009  441085   \n",
       "20774    20774   39169   39170   \n",
       "205279  205279   37104  204919   \n",
       "306588  306588   40178  266773   \n",
       "174026  174026   13326  171803   \n",
       "266606  266606  383804  383805   \n",
       "302374  302374  327115  425390   \n",
       "100070  100070  166049  166050   \n",
       "281253  281253   21855   48570   \n",
       "262774  262774  379184  379185   \n",
       "313337  313337   18773  104720   \n",
       "186074  186074  283921  283922   \n",
       "267818  267818   60721  116541   \n",
       "148059  148059   46666   60738   \n",
       "306897  306897  430498  430499   \n",
       "99455    99455  115199  165109   \n",
       "377111  377111  508350  508351   \n",
       "245652  245652   60813  329924   \n",
       "371164  371164   15909   33602   \n",
       "46598    46598   83332   83333   \n",
       "103709  103709  171351  171352   \n",
       "207262  207262  310895  310896   \n",
       "103392  103392   77511  170903   \n",
       "13680    13680   26252   26253   \n",
       "137434  137434   65988   22473   \n",
       "260846  260846   80636  180267   \n",
       "324967  324967  363283  100283   \n",
       "342620  342620  470616  470617   \n",
       "116880  116880  190299  190300   \n",
       "340428  340428  468151  468152   \n",
       "\n",
       "                                                question1  \\\n",
       "391998  widely accepted credit card small business res...   \n",
       "20774                             best camera phone 12000   \n",
       "205279                        reach level 50 quickly dota   \n",
       "306588                                 celebrate birthday   \n",
       "174026                   meditation cure bipolar disorder   \n",
       "266606                                    one grow weight   \n",
       "302374                     activate window 10 permanently   \n",
       "100070                            show similar judge judy   \n",
       "281253                        howdo get stanford poor gpa   \n",
       "262774               bedroom arranged according feng shui   \n",
       "313337                                  hamster eat honey   \n",
       "186074                 salary structure bad india fresher   \n",
       "267818       talking animal farming impact global warming   \n",
       "148059                                  get rid belly fat   \n",
       "306897                       mean order awaiting shipment   \n",
       "99455         value people alive instead feeling sad dead   \n",
       "377111                  flipkart discontinued social sign   \n",
       "245652                              potty train pug puppy   \n",
       "371164                                    one get anxiety   \n",
       "46598                                          internship   \n",
       "103709      open microsoft word docx file problem content   \n",
       "207262                 would happen blind person took lsd   \n",
       "103392            best alternative kat cr kickasstorrents   \n",
       "13680             special care 10 week old pit bull puppy   \n",
       "137434                               evidence life planet   \n",
       "260846                                            nursing   \n",
       "324967                       anal sex dangerous unhealthy   \n",
       "342620                                     credit sudhaar   \n",
       "116880                       played bad last match forget   \n",
       "340428  taken 54l education loan 2011 degree year engg...   \n",
       "\n",
       "                                                question2  \n",
       "391998  widely accepted credit card small business res...  \n",
       "20774                                    best phone 12000  \n",
       "205279                             reach 6k mmr dota fast  \n",
       "306588                             one celebrate birthday  \n",
       "174026                             bipolar disorder cured  \n",
       "266606         expensive thing would consider buying ebay  \n",
       "302374               activate free window 10 professional  \n",
       "100070              judge judy respected legal profession  \n",
       "281253                              get stanford poor gpa  \n",
       "262774                 long work activate feng shui thing  \n",
       "313337                     hamster eat raisin harmful way  \n",
       "186074  see ukip takeover north next general election ...  \n",
       "267818  environmentalist never talk animal agriculture...  \n",
       "148059                                          belly fat  \n",
       "306897  awaiting fulfillment mean order status differ ...  \n",
       "99455            alive people happy dead sad would choose  \n",
       "377111  flipkart disabling social login via facebook g...  \n",
       "245652      new german shepard puppy potty train properly  \n",
       "371164                                        get anxiety  \n",
       "46598                                      internship job  \n",
       "103709      possible infect docx file without using macro  \n",
       "207262                 would happen blind person take lsd  \n",
       "103392                            best alternative kat al  \n",
       "13680                special care week old pit bull puppy  \n",
       "137434                         life existing except earth  \n",
       "260846                                              nurse  \n",
       "324967                                      anal sex safe  \n",
       "342620                                     credit sudhaar  \n",
       "116880                          forget thing regret badly  \n",
       "340428  compulsory choose one graduation subject optio...  "
      ]
     },
     "execution_count": 39,
     "metadata": {},
     "output_type": "execute_result"
    }
   ],
   "source": [
    "train_sam.head(30)"
   ]
  },
  {
   "cell_type": "code",
   "execution_count": 46,
   "metadata": {},
   "outputs": [
    {
     "data": {
      "text/plain": [
       "0    100000\n",
       "Name: b, dtype: int64"
      ]
     },
     "execution_count": 46,
     "metadata": {},
     "output_type": "execute_result"
    }
   ],
   "source": [
    "a['b'].value_counts()"
   ]
  },
  {
   "cell_type": "code",
   "execution_count": 76,
   "metadata": {},
   "outputs": [],
   "source": [
    "tfidf_matrix_array = np.array(tfidf_matrix)"
   ]
  },
  {
   "cell_type": "code",
   "execution_count": 77,
   "metadata": {},
   "outputs": [
    {
     "ename": "IndexError",
     "evalue": "too many indices for array",
     "output_type": "error",
     "traceback": [
      "\u001b[1;31m---------------------------------------------------------------------------\u001b[0m",
      "\u001b[1;31mIndexError\u001b[0m                                Traceback (most recent call last)",
      "\u001b[1;32m<ipython-input-77-22c48576d935>\u001b[0m in \u001b[0;36m<module>\u001b[1;34m()\u001b[0m\n\u001b[1;32m----> 1\u001b[1;33m \u001b[0mdf_final\u001b[0m\u001b[1;33m=\u001b[0m \u001b[0mpd\u001b[0m\u001b[1;33m.\u001b[0m\u001b[0mDataFrame\u001b[0m\u001b[1;33m(\u001b[0m\u001b[0mtfidf_matrix_array\u001b[0m\u001b[1;33m,\u001b[0m \u001b[0mindex\u001b[0m\u001b[1;33m=\u001b[0m\u001b[0mtfidf_matrix_array\u001b[0m\u001b[1;33m[\u001b[0m\u001b[1;33m:\u001b[0m\u001b[1;33m,\u001b[0m\u001b[1;36m0\u001b[0m\u001b[1;33m]\u001b[0m\u001b[1;33m)\u001b[0m\u001b[1;33m\u001b[0m\u001b[0m\n\u001b[0m",
      "\u001b[1;31mIndexError\u001b[0m: too many indices for array"
     ]
    }
   ],
   "source": [
    "df_final= pd.DataFrame(tfidf_matrix_array, index=tfidf_matrix_array[:,0])"
   ]
  },
  {
   "cell_type": "code",
   "execution_count": 70,
   "metadata": {},
   "outputs": [],
   "source": [
    "a = tfidf_matrix_array"
   ]
  },
  {
   "cell_type": "code",
   "execution_count": 72,
   "metadata": {},
   "outputs": [
    {
     "data": {
      "text/plain": [
       "array(<100000x32754 sparse matrix of type '<class 'numpy.float64'>'\n",
       "\twith 530166 stored elements in Compressed Sparse Row format>,\n",
       "      dtype=object)"
      ]
     },
     "execution_count": 72,
     "metadata": {},
     "output_type": "execute_result"
    }
   ],
   "source": [
    "a"
   ]
  },
  {
   "cell_type": "code",
   "execution_count": null,
   "metadata": {},
   "outputs": [],
   "source": []
  }
 ],
 "metadata": {
  "kernelspec": {
   "display_name": "Python 3",
   "language": "python",
   "name": "python3"
  },
  "language_info": {
   "codemirror_mode": {
    "name": "ipython",
    "version": 3
   },
   "file_extension": ".py",
   "mimetype": "text/x-python",
   "name": "python",
   "nbconvert_exporter": "python",
   "pygments_lexer": "ipython3",
   "version": "3.6.4"
  }
 },
 "nbformat": 4,
 "nbformat_minor": 2
}
